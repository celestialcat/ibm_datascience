{
 "cells": [
  {
   "cell_type": "markdown",
   "id": "10197eb7-93b8-4151-ab26-18ab6ac49db9",
   "metadata": {},
   "source": [
    "###### **'Tools for Data Science' - Peer-graded assignment - SM**\n",
    "-------------"
   ]
  },
  {
   "cell_type": "markdown",
   "id": "06035190-bd60-43f3-bd30-0bf22e94bc5c",
   "metadata": {},
   "source": [
    "# Data Science Tools and Ecosystem"
   ]
  },
  {
   "cell_type": "markdown",
   "id": "4862c5c1-b138-42c4-ae3f-c593a224c995",
   "metadata": {},
   "source": [
    "In this notebook, Data Science Tools and Ecosystem are summarized."
   ]
  },
  {
   "cell_type": "markdown",
   "id": "1527ae42-3758-41b0-95ad-36dbf8d86fa4",
   "metadata": {},
   "source": [
    "**Objectives:**\n",
    "* Know about popular languages and libraries used by Data Scientists\n",
    "* Gain awareness of open source development tools for Data Science\n",
    "* Understand how to evaluate arithmetic expressions in Python"
   ]
  },
  {
   "cell_type": "markdown",
   "id": "7e47570b-8f0c-4109-aa01-ceceff7a578e",
   "metadata": {},
   "source": [
    "Some of the more popular languages used by Data Scientists are:\n",
    "1. Python\n",
    "2. R\n",
    "3. Julia"
   ]
  },
  {
   "cell_type": "markdown",
   "id": "f5e2dc68-53ba-437c-83de-c33e44964a0a",
   "metadata": {},
   "source": [
    "Some of the commonly used (Python) libraries in Data Science include:\n",
    "1. Pandas\n",
    "2. TensorFlow\n",
    "3. Scikit-Learn"
   ]
  },
  {
   "cell_type": "markdown",
   "id": "88d7ba6d-c879-4367-aba2-af20956e4438",
   "metadata": {},
   "source": [
    "| Open Source Development Tools for Data Science |\n",
    "|:-----------------------------------------------|\n",
    "|   Google Colab                                 |\n",
    "|   Gitlab                                       |\n",
    "|   VS Code                                      |"
   ]
  },
  {
   "cell_type": "markdown",
   "id": "4e1e6380-fd79-4e70-9112-f88d52416f77",
   "metadata": {},
   "source": [
    "### Below are a few examples of evaluating arithmetic expressions in Python."
   ]
  },
  {
   "cell_type": "code",
   "execution_count": 1,
   "id": "a7c9cb3d-f49c-4063-bf51-be312fc5ab3a",
   "metadata": {
    "tags": []
   },
   "outputs": [
    {
     "name": "stdout",
     "output_type": "stream",
     "text": [
      "17\n"
     ]
    }
   ],
   "source": [
    "# This is a simple arithmetic operation to multiply then add integers\n",
    "result = (3*4) + 5\n",
    "print(result)"
   ]
  },
  {
   "cell_type": "code",
   "execution_count": 2,
   "id": "b7da9a59-0fb5-4473-80ff-b903d8ac1b8d",
   "metadata": {
    "tags": []
   },
   "outputs": [
    {
     "name": "stdout",
     "output_type": "stream",
     "text": [
      "3.3333333333333335\n"
     ]
    }
   ],
   "source": [
    "# This will convert 200 minutes to hours by dividing by 60\n",
    "hours = 200/60\n",
    "print(hours)"
   ]
  },
  {
   "cell_type": "markdown",
   "id": "d2e78293-1df9-4f72-b3ca-4438de059768",
   "metadata": {},
   "source": [
    "## Author\n",
    "S Mansur"
   ]
  }
 ],
 "metadata": {
  "kernelspec": {
   "display_name": "Python",
   "language": "python",
   "name": "conda-env-python-py"
  },
  "language_info": {
   "codemirror_mode": {
    "name": "ipython",
    "version": 3
   },
   "file_extension": ".py",
   "mimetype": "text/x-python",
   "name": "python",
   "nbconvert_exporter": "python",
   "pygments_lexer": "ipython3",
   "version": "3.7.12"
  }
 },
 "nbformat": 4,
 "nbformat_minor": 5
}
